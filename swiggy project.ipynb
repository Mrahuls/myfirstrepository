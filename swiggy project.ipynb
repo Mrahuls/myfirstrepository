{
 "cells": [
  {
   "cell_type": "code",
   "execution_count": 0,
   "metadata": {
    "application/vnd.databricks.v1+cell": {
     "cellMetadata": {
      "byteLimit": 2048000,
      "rowLimit": 10000
     },
     "inputWidgets": {},
     "nuid": "5b5a598a-14f5-4216-8b8a-c99087490b93",
     "showTitle": false,
     "tableResultSettingsMap": {},
     "title": ""
    }
   },
   "outputs": [],
   "source": [
    "from pyspark.sql.types import StringType,StructField,IntegerType,FloatType,StructType"
   ]
  },
  {
   "cell_type": "code",
   "execution_count": 0,
   "metadata": {
    "application/vnd.databricks.v1+cell": {
     "cellMetadata": {
      "byteLimit": 2048000,
      "rowLimit": 10000
     },
     "inputWidgets": {},
     "nuid": "3e02867e-dca4-42a1-8ad1-0073116bf7c0",
     "showTitle": false,
     "tableResultSettingsMap": {},
     "title": ""
    }
   },
   "outputs": [],
   "source": [
    "# Restaurant Name,City,Locality,Cuisines,Average Cost for two,Has Table booking,Has Online delivery, Rating Stars out of 5,Rating in text,Price range,Votes\n",
    "custschema= StructType([\n",
    "    StructField(\"Restaurant Name\",StringType()),\n",
    "    StructField(\"City\",StringType()),\n",
    "    StructField(\"Locality\",StringType()),\n",
    "    StructField(\"Cuisines\",StringType()),\n",
    "    StructField(\"Average Cost for two\",IntegerType()),\n",
    "    StructField(\"Has Table booking\",StringType()),\n",
    "    StructField(\"Has Online delivery\",StringType()),\n",
    "    StructField(\"Rating Stars out of 5\",FloatType()),\n",
    "    StructField(\"Rating in text\",StringType()),\n",
    "    StructField(\"Price range\",IntegerType()),\n",
    "    StructField(\"Votes\",StringType())\n",
    "\n",
    "\n",
    "])"
   ]
  },
  {
   "cell_type": "code",
   "execution_count": 0,
   "metadata": {
    "application/vnd.databricks.v1+cell": {
     "cellMetadata": {
      "byteLimit": 2048000,
      "rowLimit": 10000
     },
     "inputWidgets": {},
     "nuid": "7ba4a4be-3a9d-48ac-b29a-b2852f1d1e49",
     "showTitle": false,
     "tableResultSettingsMap": {},
     "title": ""
    }
   },
   "outputs": [
    {
     "output_type": "stream",
     "name": "stdout",
     "output_type": "stream",
     "text": [
      "root\n |-- Restaurant Name: string (nullable = true)\n |-- City: string (nullable = true)\n |-- Locality: string (nullable = true)\n |-- Cuisines: string (nullable = true)\n |-- Average Cost for two: integer (nullable = true)\n |-- Has Table booking: string (nullable = true)\n |-- Has Online delivery: string (nullable = true)\n |-- Rating Stars out of 5: float (nullable = true)\n |-- Rating in text: string (nullable = true)\n |-- Price range: integer (nullable = true)\n |-- Votes: string (nullable = true)\n\n"
     ]
    }
   ],
   "source": [
    "source_df=spark.read.csv(\"/FileStore/tables/Swiggy_Analysis_Source_File-1.csv\",header=True,schema=custschema)\n",
    "source_df.printSchema()"
   ]
  },
  {
   "cell_type": "code",
   "execution_count": 0,
   "metadata": {
    "application/vnd.databricks.v1+cell": {
     "cellMetadata": {
      "byteLimit": 2048000,
      "rowLimit": 10000
     },
     "inputWidgets": {},
     "nuid": "16410a07-b6af-4eb9-a91a-3564594a5ff5",
     "showTitle": false,
     "tableResultSettingsMap": {},
     "title": ""
    }
   },
   "outputs": [],
   "source": [
    "from pyspark.sql import functions as f"
   ]
  },
  {
   "cell_type": "markdown",
   "metadata": {
    "application/vnd.databricks.v1+cell": {
     "cellMetadata": {
      "byteLimit": 2048000,
      "rowLimit": 10000
     },
     "inputWidgets": {},
     "nuid": "9244d514-4606-4108-bef2-bbe7c4ddba0e",
     "showTitle": false,
     "tableResultSettingsMap": {},
     "title": ""
    }
   },
   "source": [
    "# city table"
   ]
  },
  {
   "cell_type": "code",
   "execution_count": 0,
   "metadata": {
    "application/vnd.databricks.v1+cell": {
     "cellMetadata": {
      "byteLimit": 2048000,
      "rowLimit": 10000
     },
     "inputWidgets": {},
     "nuid": "ddd672bf-1843-4b4a-a435-7dbc9ec06708",
     "showTitle": false,
     "tableResultSettingsMap": {},
     "title": ""
    }
   },
   "outputs": [
    {
     "output_type": "stream",
     "name": "stdout",
     "output_type": "stream",
     "text": [
      "+---------+-------+\n|City_Name|City_ID|\n+---------+-------+\n|Bangalore|      1|\n|    Patna|      2|\n|  Chennai|      3|\n|  Lucknow|      4|\n|   Mumbai|      5|\n+---------+-------+\nonly showing top 5 rows\n\n"
     ]
    }
   ],
   "source": [
    "CITY_DIM=source_df.select(f.col(\"City\").alias(\"City_Name\")).distinct().withColumn(\"City_ID\",(f.monotonically_increasing_id().cast(IntegerType()))+1)\n",
    "CITY_DIM.show(5)"
   ]
  },
  {
   "cell_type": "markdown",
   "metadata": {
    "application/vnd.databricks.v1+cell": {
     "cellMetadata": {
      "byteLimit": 2048000,
      "rowLimit": 10000
     },
     "inputWidgets": {},
     "nuid": "1c269076-5dcd-4cf7-bb7e-f27d6ecb28f6",
     "showTitle": false,
     "tableResultSettingsMap": {},
     "title": ""
    }
   },
   "source": [
    "# restaurant table"
   ]
  },
  {
   "cell_type": "code",
   "execution_count": 0,
   "metadata": {
    "application/vnd.databricks.v1+cell": {
     "cellMetadata": {
      "byteLimit": 2048000,
      "rowLimit": 10000
     },
     "inputWidgets": {},
     "nuid": "cabbd872-cf58-48ed-9b3b-9197e0ff9dfb",
     "showTitle": false,
     "tableResultSettingsMap": {},
     "title": ""
    }
   },
   "outputs": [
    {
     "output_type": "stream",
     "name": "stdout",
     "output_type": "stream",
     "text": [
      "+--------------------+-------------+\n|     Restaurant_Name|Restaurant_ID|\n+--------------------+-------------+\n|            Chung Fa|            1|\n|             Bar Bar|            2|\n|Zolocrust - Hotel...|            3|\n|            Paradise|            4|\n|        Olive Bistro|            5|\n+--------------------+-------------+\nonly showing top 5 rows\n\n"
     ]
    }
   ],
   "source": [
    "RESTAURANT_NAME_DIM=source_df.select(f.col(\"Restaurant Name\").alias(\"Restaurant_Name\")).distinct().withColumn(\"Restaurant_ID\",(f.monotonically_increasing_id().cast(IntegerType()))+1)\n",
    "RESTAURANT_NAME_DIM.show(5)"
   ]
  },
  {
   "cell_type": "markdown",
   "metadata": {
    "application/vnd.databricks.v1+cell": {
     "cellMetadata": {
      "byteLimit": 2048000,
      "rowLimit": 10000
     },
     "inputWidgets": {},
     "nuid": "ba028afe-b0ca-4318-b1b3-02fde68d869f",
     "showTitle": false,
     "tableResultSettingsMap": {},
     "title": ""
    }
   },
   "source": [
    "# cuisine table"
   ]
  },
  {
   "cell_type": "code",
   "execution_count": 0,
   "metadata": {
    "application/vnd.databricks.v1+cell": {
     "cellMetadata": {
      "byteLimit": 2048000,
      "rowLimit": 10000
     },
     "inputWidgets": {},
     "nuid": "ea273cfe-bb0a-425c-9f24-94ef368cc856",
     "showTitle": false,
     "tableResultSettingsMap": {},
     "title": ""
    }
   },
   "outputs": [
    {
     "output_type": "stream",
     "name": "stdout",
     "output_type": "stream",
     "text": [
      "+--------------+----------+\n|  Cuisine_Name|Cuisine_ID|\n+--------------+----------+\n|       Mexican|         1|\n|        Bakery|         2|\n|      European|         3|\n|Charcoal Grill|         4|\n|       Biryani|         5|\n+--------------+----------+\nonly showing top 5 rows\n\n"
     ]
    }
   ],
   "source": [
    "CUISINE_DIM=source_df.select(f.col(\"Cuisines\").alias(\"Cuisine_Name\")).distinct().withColumn(\"Cuisine_ID\",(f.monotonically_increasing_id().cast(IntegerType()))+1)\n",
    "CUISINE_DIM.show(5)"
   ]
  },
  {
   "cell_type": "markdown",
   "metadata": {
    "application/vnd.databricks.v1+cell": {
     "cellMetadata": {
      "byteLimit": 2048000,
      "rowLimit": 10000
     },
     "inputWidgets": {},
     "nuid": "279c15ad-313b-4f82-b410-090abda56047",
     "showTitle": false,
     "tableResultSettingsMap": {},
     "title": ""
    }
   },
   "source": [
    "# locality table"
   ]
  },
  {
   "cell_type": "code",
   "execution_count": 0,
   "metadata": {
    "application/vnd.databricks.v1+cell": {
     "cellMetadata": {
      "byteLimit": 2048000,
      "rowLimit": 10000
     },
     "inputWidgets": {},
     "nuid": "eb8d8df2-5222-446e-b2cb-7d23b5bd6139",
     "showTitle": false,
     "tableResultSettingsMap": {},
     "title": ""
    }
   },
   "outputs": [
    {
     "output_type": "stream",
     "name": "stdout",
     "output_type": "stream",
     "text": [
      "+--------------------+-----------+\n|       Locality_Name|Locality_ID|\n+--------------------+-----------+\n|Holiday Inn Jaipu...|          1|\n|           Lal Kothi|          2|\n|     Deccan Gymkhana|          3|\n|International Bus...|          4|\n|             Lodipur|          5|\n+--------------------+-----------+\nonly showing top 5 rows\n\n"
     ]
    }
   ],
   "source": [
    "LOCALITY_DIM=source_df.select(f.col(\"Locality\").alias(\"Locality_Name\")).distinct().withColumn(\"Locality_ID\",(f.monotonically_increasing_id().cast(IntegerType()))+1)\n",
    "LOCALITY_DIM.show(5)"
   ]
  },
  {
   "cell_type": "markdown",
   "metadata": {
    "application/vnd.databricks.v1+cell": {
     "cellMetadata": {
      "byteLimit": 2048000,
      "rowLimit": 10000
     },
     "inputWidgets": {},
     "nuid": "7efae7c3-baff-462b-82be-4165c1427162",
     "showTitle": false,
     "tableResultSettingsMap": {},
     "title": ""
    }
   },
   "source": [
    "# table booking"
   ]
  },
  {
   "cell_type": "code",
   "execution_count": 0,
   "metadata": {
    "application/vnd.databricks.v1+cell": {
     "cellMetadata": {
      "byteLimit": 2048000,
      "rowLimit": 10000
     },
     "inputWidgets": {},
     "nuid": "0854b698-5501-4325-97f6-f618d5e9cb39",
     "showTitle": false,
     "tableResultSettingsMap": {},
     "title": ""
    }
   },
   "outputs": [
    {
     "output_type": "stream",
     "name": "stdout",
     "output_type": "stream",
     "text": [
      "+-------------------+----------------+\n|Table_Booking_avail|Table_Booking_id|\n+-------------------+----------------+\n|                 No|               1|\n|                Yes|               2|\n+-------------------+----------------+\n\n"
     ]
    }
   ],
   "source": [
    "TABLE_BOOKING_DIM=source_df.select(f.col(\"Has Table booking\").alias(\"Table_Booking_avail\")).distinct().withColumn(\"Table_Booking_id\",(f.monotonically_increasing_id().cast(IntegerType()))+1)\n",
    "TABLE_BOOKING_DIM.show(5)"
   ]
  },
  {
   "cell_type": "markdown",
   "metadata": {
    "application/vnd.databricks.v1+cell": {
     "cellMetadata": {
      "byteLimit": 2048000,
      "rowLimit": 10000
     },
     "inputWidgets": {},
     "nuid": "eec5bdd5-118a-4ce1-b5a0-2dadd2b73cd5",
     "showTitle": false,
     "tableResultSettingsMap": {},
     "title": ""
    }
   },
   "source": [
    "# delivery"
   ]
  },
  {
   "cell_type": "code",
   "execution_count": 0,
   "metadata": {
    "application/vnd.databricks.v1+cell": {
     "cellMetadata": {
      "byteLimit": 2048000,
      "rowLimit": 10000
     },
     "inputWidgets": {},
     "nuid": "58b4785b-8503-479c-9941-d235fcfcbe08",
     "showTitle": false,
     "tableResultSettingsMap": {},
     "title": ""
    }
   },
   "outputs": [
    {
     "output_type": "stream",
     "name": "stdout",
     "output_type": "stream",
     "text": [
      "+--------------+-----------+\n|Delivery_avail|Delivery_ID|\n+--------------+-----------+\n|            No|          1|\n|           Yes|          2|\n+--------------+-----------+\n\n"
     ]
    }
   ],
   "source": [
    "DELIVERY_DIM=source_df.select(f.col(\"Has online Delivery\").alias(\"Delivery_avail\")).distinct().withColumn(\"Delivery_ID\",(f.monotonically_increasing_id().cast(IntegerType()))+1)\n",
    "DELIVERY_DIM.show(5)"
   ]
  },
  {
   "cell_type": "markdown",
   "metadata": {
    "application/vnd.databricks.v1+cell": {
     "cellMetadata": {
      "byteLimit": 2048000,
      "rowLimit": 10000
     },
     "inputWidgets": {},
     "nuid": "3bfd0588-6297-4e6b-a741-ad5058983389",
     "showTitle": false,
     "tableResultSettingsMap": {},
     "title": ""
    }
   },
   "source": [
    "# rating"
   ]
  },
  {
   "cell_type": "code",
   "execution_count": 0,
   "metadata": {
    "application/vnd.databricks.v1+cell": {
     "cellMetadata": {
      "byteLimit": 2048000,
      "rowLimit": 10000
     },
     "inputWidgets": {},
     "nuid": "1fe569e7-ff0b-4399-b0cd-cb8d53eab1b2",
     "showTitle": false,
     "tableResultSettingsMap": {},
     "title": ""
    }
   },
   "outputs": [
    {
     "output_type": "stream",
     "name": "stdout",
     "output_type": "stream",
     "text": [
      "+---------------+--------------+---------+\n|Rating_in_stars|Rating_in_text|Rating_ID|\n+---------------+--------------+---------+\n|            3.5|          Good|        1|\n|            4.9|     Excellent|        2|\n|            4.3|     Very Good|        3|\n|            3.9|          Good|        4|\n|            4.7|     Excellent|        5|\n+---------------+--------------+---------+\nonly showing top 5 rows\n\n"
     ]
    }
   ],
   "source": [
    "RATING_DIM=source_df.select(f.col(\"Rating stars out of 5\").alias(\"Rating_in_stars\"),(f.col(\"Rating in text\").alias(\"Rating_in_text\"))).distinct().withColumn(\"Rating_ID\",(f.monotonically_increasing_id().cast(IntegerType()))+1)\n",
    "RATING_DIM.show(5)"
   ]
  },
  {
   "cell_type": "markdown",
   "metadata": {
    "application/vnd.databricks.v1+cell": {
     "cellMetadata": {
      "byteLimit": 2048000,
      "rowLimit": 10000
     },
     "inputWidgets": {},
     "nuid": "867b69bf-b3d4-4e78-810b-a5c5c122d5dc",
     "showTitle": false,
     "tableResultSettingsMap": {},
     "title": ""
    }
   },
   "source": [
    "# fact table"
   ]
  },
  {
   "cell_type": "code",
   "execution_count": 0,
   "metadata": {
    "application/vnd.databricks.v1+cell": {
     "cellMetadata": {
      "byteLimit": 2048000,
      "rowLimit": 10000
     },
     "inputWidgets": {},
     "nuid": "6da33f42-f463-45c5-8a0e-c25ef3864dd0",
     "showTitle": false,
     "tableResultSettingsMap": {},
     "title": ""
    }
   },
   "outputs": [
    {
     "output_type": "stream",
     "name": "stdout",
     "output_type": "stream",
     "text": [
      "+--------------------+---------+--------------------+-------------+--------------------+-----------------+-------------------+---------------------+--------------+-----------+-----+\n|     Restaurant Name|     City|            Locality|     Cuisines|Average Cost for two|Has Table booking|Has Online delivery|Rating Stars out of 5|Rating in text|Price range|Votes|\n+--------------------+---------+--------------------+-------------+--------------------+-----------------+-------------------+---------------------+--------------+-----------+-----+\n|    Sultans of Spice|Bangalore|BluPetal Hotel, K...| North Indian|                1300|              Yes|                Yes|                  4.1|     Very Good|          3|  314|\n|The Fatty Bao - A...|Bangalore|         Indiranagar|        Asian|                2400|              Yes|                Yes|                  4.7|     Excellent|          4|  591|\n|                Toit|Bangalore|         Indiranagar|      Italian|                2000|               No|                 No|                  4.8|     Excellent|          4|  270|\n| Three Dots & A Dash|Bangalore|         Indiranagar|     European|                1300|              Yes|                 No|                  3.9|          Good|          3|  365|\n|    Bombay Brasserie|Bangalore|         Indiranagar|Modern Indian|                1500|               No|                Yes|                  4.2|     Very Good|          3|  229|\n+--------------------+---------+--------------------+-------------+--------------------+-----------------+-------------------+---------------------+--------------+-----------+-----+\nonly showing top 5 rows\n\n"
     ]
    }
   ],
   "source": [
    "source_df.show(5)"
   ]
  },
  {
   "cell_type": "code",
   "execution_count": 0,
   "metadata": {
    "application/vnd.databricks.v1+cell": {
     "cellMetadata": {
      "byteLimit": 2048000,
      "rowLimit": 10000
     },
     "inputWidgets": {},
     "nuid": "fb0106a6-1d4e-48b3-9ece-6ebe15c3b57f",
     "showTitle": false,
     "tableResultSettingsMap": {},
     "title": ""
    }
   },
   "outputs": [
    {
     "output_type": "stream",
     "name": "stdout",
     "output_type": "stream",
     "text": [
      "+--------------------+---------+--------------------+-------------+--------------------+-----------------+-------------------+---------------------+--------------+-----------+-----+---------+-------+--------------------+-------------+-------------+----------+--------------------+-----------+-------------------+----------------+--------------+-----------+---------------+--------------+---------+\n|     Restaurant Name|     City|            Locality|     Cuisines|Average Cost for two|Has Table booking|Has Online delivery|Rating Stars out of 5|Rating in text|Price range|Votes|City_Name|City_ID|     Restaurant_Name|Restaurant_ID| Cuisine_Name|Cuisine_ID|       Locality_Name|Locality_ID|Table_Booking_avail|Table_Booking_id|Delivery_avail|Delivery_ID|Rating_in_stars|Rating_in_text|Rating_ID|\n+--------------------+---------+--------------------+-------------+--------------------+-----------------+-------------------+---------------------+--------------+-----------+-----+---------+-------+--------------------+-------------+-------------+----------+--------------------+-----------+-------------------+----------------+--------------+-----------+---------------+--------------+---------+\n|    Sultans of Spice|Bangalore|BluPetal Hotel, K...| North Indian|                1300|              Yes|                Yes|                  4.1|     Very Good|          3|  314|Bangalore|      1|    Sultans of Spice|          180| North Indian|        18|BluPetal Hotel, K...|        123|                Yes|               2|           Yes|          2|            4.1|     Very Good|       14|\n|The Fatty Bao - A...|Bangalore|         Indiranagar|        Asian|                2400|              Yes|                Yes|                  4.7|     Excellent|          4|  591|Bangalore|      1|The Fatty Bao - A...|          225|        Asian|        23|         Indiranagar|          7|                Yes|               2|           Yes|          2|            4.7|     Excellent|        5|\n|                Toit|Bangalore|         Indiranagar|      Italian|                2000|               No|                 No|                  4.8|     Excellent|          4|  270|Bangalore|      1|                Toit|           35|      Italian|        14|         Indiranagar|          7|                 No|               1|            No|          1|            4.8|     Excellent|       16|\n| Three Dots & A Dash|Bangalore|         Indiranagar|     European|                1300|              Yes|                 No|                  3.9|          Good|          3|  365|Bangalore|      1| Three Dots & A Dash|           20|     European|         3|         Indiranagar|          7|                Yes|               2|            No|          1|            3.9|          Good|        4|\n|    Bombay Brasserie|Bangalore|         Indiranagar|Modern Indian|                1500|               No|                Yes|                  4.2|     Very Good|          3|  229|Bangalore|      1|    Bombay Brasserie|           98|Modern Indian|        16|         Indiranagar|          7|                 No|               1|           Yes|          2|            4.2|     Very Good|       15|\n|    Glen's Bakehouse|Bangalore|         Indiranagar|       Bakery|                 800|               No|                 No|                  4.0|     Very Good|          2|  336|Bangalore|      1|    Glen's Bakehouse|          187|       Bakery|         2|         Indiranagar|          7|                 No|               1|            No|          1|            4.0|     Very Good|       19|\n|              Onesta|Bangalore|         Indiranagar|    Fast Food|                 600|               No|                Yes|                  4.3|     Very Good|          2|  520|Bangalore|      1|              Onesta|          146|    Fast Food|        12|         Indiranagar|          7|                 No|               1|           Yes|          2|            4.3|     Very Good|        3|\n|              Onesta|Bangalore|            JP Nagar|    Fast Food|                 600|               No|                 No|                  4.6|     Excellent|          2|  677|Bangalore|      1|              Onesta|          146|    Fast Food|        12|            JP Nagar|         13|                 No|               1|            No|          1|            4.6|     Excellent|       18|\n|  ECHOES Koramangala|Bangalore|Koramangala 5th B...|  Continental|                 950|               No|                 No|                  4.7|     Excellent|          2|  621|Bangalore|      1|  ECHOES Koramangala|          151|  Continental|         7|Koramangala 5th B...|        118|                 No|               1|            No|          1|            4.7|     Excellent|        5|\n|            Truffles|Bangalore|Koramangala 5th B...|     American|                 800|               No|                Yes|                  4.7|     Excellent|          2|  532|Bangalore|      1|            Truffles|           65|     American|        27|Koramangala 5th B...|        118|                 No|               1|           Yes|          2|            4.7|     Excellent|        5|\n|     The Black Pearl|Bangalore|Koramangala 5th B...| North Indian|                1400|              Yes|                 No|                  4.1|     Very Good|          3| 1070|Bangalore|      1|     The Black Pearl|          128| North Indian|        18|Koramangala 5th B...|        118|                Yes|               2|            No|          1|            4.1|     Very Good|       14|\n|          Eat Street|Bangalore|Koramangala 6th B...| North Indian|                 400|               No|                Yes|                  4.3|     Very Good|          1|  488|Bangalore|      1|          Eat Street|           13| North Indian|        18|Koramangala 6th B...|         52|                 No|               1|           Yes|          2|            4.3|     Very Good|        3|\n|  Koramangala Social|Bangalore|Koramangala 7th B...|  Continental|                1500|               No|                 No|                  4.5|     Excellent|          3|  294|Bangalore|      1|  Koramangala Social|          196|  Continental|         7|Koramangala 7th B...|         11|                 No|               1|            No|          1|            4.5|     Excellent|       12|\n|AB's - Absolute B...|Bangalore|        Marathahalli|     European|                1400|               No|                 No|                  4.6|     Excellent|          3|  458|Bangalore|      1|AB's - Absolute B...|           56|     European|         3|        Marathahalli|        104|                 No|               1|            No|          1|            4.6|     Excellent|       18|\n|            Flechazo|Bangalore|        Marathahalli|        Asian|                1200|              Yes|                 No|                  4.4|     Very Good|          3|  223|Bangalore|      1|            Flechazo|            6|        Asian|        23|        Marathahalli|        104|                Yes|               2|            No|          1|            4.4|     Very Good|        6|\n|              Onesta|Bangalore|        New BEL Road|    Fast Food|                 600|               No|                 No|                  4.6|     Excellent|          2|   29|Bangalore|      1|              Onesta|          146|    Fast Food|        12|        New BEL Road|         82|                 No|               1|            No|          1|            4.6|     Excellent|       18|\n|           Communiti|Bangalore|      Residency Road|  Continental|                1200|               No|                 No|                  4.2|     Very Good|          3|   72|Bangalore|      1|           Communiti|          188|  Continental|         7|      Residency Road|         67|                 No|               1|            No|          1|            4.2|     Very Good|       15|\n|         Big Brewsky|Bangalore|       Sarjapur Road|    Fast Food|                1800|              Yes|                Yes|                  4.5|     Excellent|          3|  211|Bangalore|      1|         Big Brewsky|          194|    Fast Food|        12|       Sarjapur Road|         83|                Yes|               2|           Yes|          2|            4.5|     Excellent|       12|\n|                Hoot|Bangalore|       Sarjapur Road|  Continental|                1400|               No|                 No|                  3.9|          Good|          3|  118|Bangalore|      1|                Hoot|          201|  Continental|         7|       Sarjapur Road|         83|                 No|               1|            No|          1|            3.9|          Good|        4|\n|          Farzi Cafe|Bangalore|             UB City|Modern Indian|                1500|               No|                 No|                  4.4|     Very Good|          3|  392|Bangalore|      1|          Farzi Cafe|          186|Modern Indian|        16|             UB City|         92|                 No|               1|            No|          1|            4.4|     Very Good|        6|\n+--------------------+---------+--------------------+-------------+--------------------+-----------------+-------------------+---------------------+--------------+-----------+-----+---------+-------+--------------------+-------------+-------------+----------+--------------------+-----------+-------------------+----------------+--------------+-----------+---------------+--------------+---------+\nonly showing top 20 rows\n\n"
     ]
    }
   ],
   "source": [
    "fact_table=source_df.join(CITY_DIM,CITY_DIM['City_Name']==source_df['City'],'left')\\\n",
    "  .join(RESTAURANT_NAME_DIM,RESTAURANT_NAME_DIM['Restaurant_Name']==source_df['Restaurant Name'],'left')\\\n",
    "    .join(CUISINE_DIM,CUISINE_DIM['Cuisine_Name']==source_df['Cuisines'],'left')\\\n",
    "      .join(LOCALITY_DIM,LOCALITY_DIM['Locality_name']==source_df['Locality'],'left')\\\n",
    "        .join(TABLE_BOOKING_DIM,TABLE_BOOKING_DIM['Table_Booking_avail']==source_df['Has Table Booking'],'left')\\\n",
    "          .join(DELIVERY_DIM,DELIVERY_DIM['Delivery_avail']==source_df['Has online Delivery'],'left')\\\n",
    "            .join(RATING_DIM,RATING_DIM['Rating_in_stars']==source_df['Rating stars out of 5'],'left')\n",
    "fact_table.show()"
   ]
  },
  {
   "cell_type": "code",
   "execution_count": 0,
   "metadata": {
    "application/vnd.databricks.v1+cell": {
     "cellMetadata": {
      "byteLimit": 2048000,
      "rowLimit": 10000
     },
     "inputWidgets": {},
     "nuid": "ef24021c-380a-4c9f-8f27-8eb384a01d6d",
     "showTitle": false,
     "tableResultSettingsMap": {},
     "title": ""
    }
   },
   "outputs": [
    {
     "output_type": "stream",
     "name": "stdout",
     "output_type": "stream",
     "text": [
      "root\n |-- Restaurant Name: string (nullable = true)\n |-- City: string (nullable = true)\n |-- Locality: string (nullable = true)\n |-- Cuisines: string (nullable = true)\n |-- Average Cost for two: integer (nullable = true)\n |-- Has Table booking: string (nullable = true)\n |-- Has Online delivery: string (nullable = true)\n |-- Rating Stars out of 5: float (nullable = true)\n |-- Rating in text: string (nullable = true)\n |-- Price range: integer (nullable = true)\n |-- Votes: string (nullable = true)\n |-- City_Name: string (nullable = true)\n |-- City_ID: integer (nullable = true)\n |-- Restaurant_Name: string (nullable = true)\n |-- Restaurant_ID: integer (nullable = true)\n |-- Cuisine_Name: string (nullable = true)\n |-- Cuisine_ID: integer (nullable = true)\n |-- Locality_Name: string (nullable = true)\n |-- Locality_ID: integer (nullable = true)\n |-- Table_Booking_avail: string (nullable = true)\n |-- Table_Booking_id: integer (nullable = true)\n |-- Delivery_avail: string (nullable = true)\n |-- Delivery_ID: integer (nullable = true)\n |-- Rating_in_stars: float (nullable = true)\n |-- Rating_in_text: string (nullable = true)\n |-- Rating_ID: integer (nullable = true)\n\n"
     ]
    }
   ],
   "source": [
    "fact_table.printSchema()"
   ]
  },
  {
   "cell_type": "markdown",
   "metadata": {
    "application/vnd.databricks.v1+cell": {
     "cellMetadata": {
      "byteLimit": 2048000,
      "rowLimit": 10000
     },
     "inputWidgets": {},
     "nuid": "4bd6fa6e-0ae1-47a6-9b8e-f5c3b489b69f",
     "showTitle": false,
     "tableResultSettingsMap": {},
     "title": ""
    }
   },
   "source": [
    "# final fact"
   ]
  },
  {
   "cell_type": "code",
   "execution_count": 0,
   "metadata": {
    "application/vnd.databricks.v1+cell": {
     "cellMetadata": {
      "byteLimit": 2048000,
      "rowLimit": 10000
     },
     "inputWidgets": {},
     "nuid": "2369e1a6-f5f7-45b7-94e7-725d7faaeb56",
     "showTitle": false,
     "tableResultSettingsMap": {},
     "title": ""
    }
   },
   "outputs": [
    {
     "output_type": "stream",
     "name": "stdout",
     "output_type": "stream",
     "text": [
      "+-------+-------+-----------+-------------+----------+--------------------+---------+-----------+----------------+-----+-----------+\n|FACT_ID|City_ID|Locality_ID|Restaurant_ID|Cuisine_ID|Average_cost_for_two|Rating_ID|Delivery_ID|Table_booking_ID|Votes|Price_range|\n+-------+-------+-----------+-------------+----------+--------------------+---------+-----------+----------------+-----+-----------+\n|      1|      1|        123|          180|        18|                1300|       14|          2|               2|  314|          3|\n|      2|      1|          7|          225|        23|                2400|        5|          2|               2|  591|          4|\n|      3|      1|          7|           35|        14|                2000|       16|          1|               1|  270|          4|\n|      4|      1|          7|           20|         3|                1300|        4|          1|               2|  365|          3|\n|      5|      1|          7|           98|        16|                1500|       15|          2|               1|  229|          3|\n+-------+-------+-----------+-------------+----------+--------------------+---------+-----------+----------------+-----+-----------+\nonly showing top 5 rows\n\n"
     ]
    }
   ],
   "source": [
    "final_fact=fact_table.withColumn(\"FACT_ID\",(f.monotonically_increasing_id()).cast(IntegerType())+1).select(\"FACT_ID\",\"City_ID\",\"Locality_ID\",\"Restaurant_ID\",\"Cuisine_ID\",f.col(\"Average Cost for two\").alias(\"Average_cost_for_two\"),\"Rating_ID\",\"Delivery_ID\",\"Table_booking_ID\",\"Votes\",f.col(\"Price range\").alias(\"Price_range\"))\n",
    "final_fact.show(5)"
   ]
  },
  {
   "cell_type": "markdown",
   "metadata": {
    "application/vnd.databricks.v1+cell": {
     "cellMetadata": {
      "byteLimit": 2048000,
      "rowLimit": 10000
     },
     "inputWidgets": {},
     "nuid": "10b8ecc4-5b38-4257-bad3-ea9fb34f343f",
     "showTitle": false,
     "tableResultSettingsMap": {},
     "title": ""
    }
   },
   "source": [
    "# count of restaurant city wise"
   ]
  },
  {
   "cell_type": "code",
   "execution_count": 0,
   "metadata": {
    "application/vnd.databricks.v1+cell": {
     "cellMetadata": {
      "byteLimit": 2048000,
      "rowLimit": 10000
     },
     "inputWidgets": {},
     "nuid": "cb69bce1-711b-4d7e-8e9e-67a1f0fd9ba9",
     "showTitle": false,
     "tableResultSettingsMap": {},
     "title": ""
    }
   },
   "outputs": [
    {
     "output_type": "stream",
     "name": "stdout",
     "output_type": "stream",
     "text": [
      "+---------+-----+\n|City_Name|count|\n+---------+-----+\n|Bangalore|   20|\n|    Patna|   20|\n|  Chennai|   20|\n|  Lucknow|   21|\n|   Mumbai|   20|\n+---------+-----+\nonly showing top 5 rows\n\n"
     ]
    }
   ],
   "source": [
    "count_df=CITY_DIM.join(final_fact,\"City_ID\",\"inner\").select(\"City_Name\").groupBy(\"City_Name\").count()\n",
    "count_df.show(5)\n",
    "\n",
    "\n"
   ]
  },
  {
   "cell_type": "markdown",
   "metadata": {
    "application/vnd.databricks.v1+cell": {
     "cellMetadata": {
      "byteLimit": 2048000,
      "rowLimit": 10000
     },
     "inputWidgets": {},
     "nuid": "da00339b-9820-4fcc-ac5d-28e87afc6828",
     "showTitle": false,
     "tableResultSettingsMap": {},
     "title": ""
    }
   },
   "source": [
    "###  \tCity-wise Top 10 restaurant based on Avg cost for 2"
   ]
  },
  {
   "cell_type": "code",
   "execution_count": 0,
   "metadata": {
    "application/vnd.databricks.v1+cell": {
     "cellMetadata": {
      "byteLimit": 2048000,
      "rowLimit": 10000
     },
     "inputWidgets": {},
     "nuid": "e1d42490-3bbc-4377-9890-fd6287c6fa02",
     "showTitle": false,
     "tableResultSettingsMap": {},
     "title": ""
    }
   },
   "outputs": [],
   "source": [
    "from pyspark.sql import Window"
   ]
  },
  {
   "cell_type": "code",
   "execution_count": 0,
   "metadata": {
    "application/vnd.databricks.v1+cell": {
     "cellMetadata": {
      "byteLimit": 2048000,
      "rowLimit": 10000
     },
     "inputWidgets": {},
     "nuid": "6cfd10d8-b9c9-48bf-bfec-f49a7860423d",
     "showTitle": false,
     "tableResultSettingsMap": {},
     "title": ""
    }
   },
   "outputs": [],
   "source": [
    "my_fun=Window.partitionBy(\"City_Name\").orderBy(f.desc(\"Average_cost_for_two\"))"
   ]
  },
  {
   "cell_type": "code",
   "execution_count": 0,
   "metadata": {
    "application/vnd.databricks.v1+cell": {
     "cellMetadata": {
      "byteLimit": 2048000,
      "rowLimit": 10000
     },
     "inputWidgets": {},
     "nuid": "461ddf9f-fe54-477e-b430-159c985fdcd4",
     "showTitle": false,
     "tableResultSettingsMap": {},
     "title": ""
    }
   },
   "outputs": [
    {
     "output_type": "stream",
     "name": "stdout",
     "output_type": "stream",
     "text": [
      "+----------+--------------------+--------------------+\n| City_Name|     Restaurant_Name|Average_cost_for_two|\n+----------+--------------------+--------------------+\n| Bangalore|The Fatty Bao - A...|                2400|\n| Bangalore|                Toit|                2000|\n| Bangalore|         Big Brewsky|                1800|\n| Bangalore|    Bombay Brasserie|                1500|\n| Bangalore|  Koramangala Social|                1500|\n| Bangalore|          Farzi Cafe|                1500|\n| Bangalore|     The Black Pearl|                1400|\n| Bangalore|AB's - Absolute B...|                1400|\n| Bangalore|                Hoot|                1400|\n| Bangalore|    Sultans of Spice|                1300|\n|Chandigarh|    Virgin Courtyard|                2200|\n|Chandigarh|        TGI Friday's|                1800|\n|Chandigarh|    Brooklyn Central|                1600|\n|Chandigarh|    Kylin Experience|                1600|\n|Chandigarh|             Chili's|                1400|\n|Chandigarh|           Mocha Bar|                1400|\n|Chandigarh|     Barbeque Nation|                1300|\n|Chandigarh|    Pirates of Grill|                1200|\n|Chandigarh|       Midnight Chef|                1000|\n|Chandigarh|   The Night Factory|                 850|\n|   Chennai|     Barbeque Nation|                2000|\n|   Chennai|             Chili's|                1700|\n|   Chennai|AB's - Absolute B...|                1600|\n|   Chennai|       Kaidi Kitchen|                1500|\n|   Chennai|  Basil With A Twist|                1500|\n|   Chennai|      Coal Barbecues|                1400|\n|   Chennai|    Bombay Brasserie|                1200|\n|   Chennai|          L'amandier|                1200|\n|   Chennai|          Ciclo Cafe|                1100|\n|   Chennai|              Maplai|                1000|\n|       Goa|         Club Cubana|                2000|\n|       Goa|             Antares|                2000|\n|       Goa|     Martin's Corner|                1600|\n|       Goa|             Curlies|                1500|\n|       Goa|      LPK Waterfront|                1500|\n|       Goa|The Black Sheep B...|                1500|\n|       Goa|Britto's Bar & Re...|                1400|\n|       Goa|          Souza Lobo|                1300|\n|       Goa|      Burger Factory|                1100|\n|       Goa|       St. Anthony's|                1100|\n+----------+--------------------+--------------------+\nonly showing top 40 rows\n\n"
     ]
    }
   ],
   "source": [
    "CRA=CITY_DIM.join(final_fact,CITY_DIM.City_ID==final_fact.City_ID)\\\n",
    "    .join(RESTAURANT_NAME_DIM,final_fact.Restaurant_ID==RESTAURANT_NAME_DIM.Restaurant_ID)\\\n",
    "        .sort(\"City_Name\",\"Average_cost_for_two\",ascending=False)\\\n",
    "            .withColumn(\"rank\",f.row_number().over(my_fun))\\\n",
    "                .select(\"City_Name\",\"Restaurant_Name\",\"Average_cost_for_two\")\\\n",
    "                    .filter(f.col(\"rank\")<=10)\n",
    "CRA.show(40)"
   ]
  },
  {
   "cell_type": "markdown",
   "metadata": {
    "application/vnd.databricks.v1+cell": {
     "cellMetadata": {
      "byteLimit": 2048000,
      "rowLimit": 10000
     },
     "inputWidgets": {},
     "nuid": "aa563787-cc0b-48b1-97d5-97484e406629",
     "showTitle": false,
     "tableResultSettingsMap": {},
     "title": ""
    }
   },
   "source": [
    "### \tTop 10 restaurant based on Avg Votes"
   ]
  },
  {
   "cell_type": "code",
   "execution_count": 0,
   "metadata": {
    "application/vnd.databricks.v1+cell": {
     "cellMetadata": {
      "byteLimit": 2048000,
      "rowLimit": 10000
     },
     "inputWidgets": {},
     "nuid": "ec613703-48e3-477c-a2b5-096f0240f638",
     "showTitle": false,
     "tableResultSettingsMap": {},
     "title": ""
    }
   },
   "outputs": [],
   "source": [
    "my_fun2=Window.partitionBy(\"City\").orderBy(f.desc(\"Votes\"))"
   ]
  },
  {
   "cell_type": "code",
   "execution_count": 0,
   "metadata": {
    "application/vnd.databricks.v1+cell": {
     "cellMetadata": {
      "byteLimit": 2048000,
      "rowLimit": 10000
     },
     "inputWidgets": {},
     "nuid": "9fe37b70-db5b-4f7b-bb09-b7caaa4a4ee9",
     "showTitle": false,
     "tableResultSettingsMap": {},
     "title": ""
    }
   },
   "outputs": [
    {
     "output_type": "stream",
     "name": "stdout",
     "output_type": "stream",
     "text": [
      "+----------+--------------------+-----+\n| City_Name|     Restaurant_Name|Votes|\n+----------+--------------------+-----+\n|   Lucknow|         Spice Caves|   98|\n|    Mumbai|     The Rolling Pin|   96|\n| Hyderabad|Jonathan's Kitche...|  917|\n|Chandigarh|    Kylin Experience|    9|\n|Chandigarh|        Super Donuts|    9|\n|Chandigarh|           Taco Bell|    9|\n|   Chennai|           Palmshore|    9|\n|       Goa|The Fisherman's W...|    9|\n|  Guwahati|       Caf� Riverrun|   88|\n|   Kolkata|    Santa's Fantasea|  879|\n|   Kolkata|       Flame & Grill|  879|\n+----------+--------------------+-----+\n\n"
     ]
    }
   ],
   "source": [
    "AVG=CITY_DIM.join(final_fact,CITY_DIM.City_ID==final_fact.City_ID)\\\n",
    "    .join(RESTAURANT_NAME_DIM,final_fact.Restaurant_ID==RESTAURANT_NAME_DIM.Restaurant_ID)\\\n",
    "        .sort(\"Votes\",ascending=False)\\\n",
    "            .withColumn(\"rank\",f.monotonically_increasing_id())\\\n",
    "                .select(\"City_Name\",\"Restaurant_Name\",\"Votes\")\\\n",
    "                    .filter(f.col(\"rank\")<=10)\n",
    "AVG.show(15)"
   ]
  },
  {
   "cell_type": "markdown",
   "metadata": {
    "application/vnd.databricks.v1+cell": {
     "cellMetadata": {
      "byteLimit": 2048000,
      "rowLimit": 10000
     },
     "inputWidgets": {},
     "nuid": "e3cfaba9-4dd0-45c2-9309-23e954f2029e",
     "showTitle": false,
     "tableResultSettingsMap": {},
     "title": ""
    }
   },
   "source": [
    "### \tTop 10 restaurant based on Rating City wise"
   ]
  },
  {
   "cell_type": "code",
   "execution_count": 0,
   "metadata": {
    "application/vnd.databricks.v1+cell": {
     "cellMetadata": {
      "byteLimit": 2048000,
      "rowLimit": 10000
     },
     "inputWidgets": {},
     "nuid": "31d5f3ad-0b0d-48e0-ab84-624ba6cc9a44",
     "showTitle": false,
     "tableResultSettingsMap": {},
     "title": ""
    }
   },
   "outputs": [],
   "source": [
    "my_fun3=Window.partitionBy(\"City_Name\").orderBy(f.desc(\"Rating_in_stars\"))"
   ]
  },
  {
   "cell_type": "code",
   "execution_count": 0,
   "metadata": {
    "application/vnd.databricks.v1+cell": {
     "cellMetadata": {
      "byteLimit": 2048000,
      "rowLimit": 10000
     },
     "inputWidgets": {},
     "nuid": "4995e22a-8362-4db1-901c-5f726825e0f1",
     "showTitle": false,
     "tableResultSettingsMap": {},
     "title": ""
    }
   },
   "outputs": [
    {
     "output_type": "stream",
     "name": "stdout",
     "output_type": "stream",
     "text": [
      "+----------+--------------------+---------------+\n| City_Name|     Restaurant_Name|Rating_in_stars|\n+----------+--------------------+---------------+\n| Bangalore|                Toit|            4.8|\n| Bangalore|The Fatty Bao - A...|            4.7|\n| Bangalore|  ECHOES Koramangala|            4.7|\n| Bangalore|            Truffles|            4.7|\n| Bangalore|              Onesta|            4.6|\n| Bangalore|AB's - Absolute B...|            4.6|\n| Bangalore|              Onesta|            4.6|\n| Bangalore|  Koramangala Social|            4.5|\n| Bangalore|         Big Brewsky|            4.5|\n| Bangalore|            Flechazo|            4.4|\n|Chandigarh|     Barbeque Nation|            4.5|\n|Chandigarh|            Burgrill|            4.5|\n|Chandigarh|    Virgin Courtyard|            4.4|\n|Chandigarh|             Chili's|            4.3|\n|Chandigarh|        TGI Friday's|            4.3|\n|Chandigarh|    Brooklyn Central|            4.2|\n|Chandigarh|           Taco Bell|            4.2|\n|Chandigarh|    Kylin Experience|            4.1|\n|Chandigarh|         Nik Baker's|            4.1|\n|Chandigarh|           OvenFresh|            4.1|\n|   Chennai|AB's - Absolute B...|            4.9|\n|   Chennai|             Chili's|            4.8|\n|   Chennai|     Fusilli Reasons|            4.6|\n|   Chennai|    Bombay Brasserie|            4.6|\n|   Chennai|      Coal Barbecues|            4.6|\n|   Chennai|  Basil With A Twist|            4.5|\n|   Chennai|         Pantry d'or|            4.4|\n|   Chennai|           Palmshore|            4.4|\n|   Chennai|     Barbeque Nation|            4.4|\n|   Chennai|          L'amandier|            4.3|\n|       Goa|      Burger Factory|            4.8|\n|       Goa|The Black Sheep B...|            4.7|\n|       Goa|            La Plage|            4.6|\n|       Goa|The Fisherman's W...|            4.6|\n|       Goa|        Baba Au Rhum|            4.5|\n|       Goa|        Ritz Classic|            4.5|\n|       Goa|         Club Cubana|            4.4|\n|       Goa|     Martin's Corner|            4.4|\n|       Goa|The Fisherman's W...|            4.4|\n|       Goa|Britto's Bar & Re...|            4.3|\n+----------+--------------------+---------------+\nonly showing top 40 rows\n\n"
     ]
    }
   ],
   "source": [
    "rating_df=CITY_DIM.join(final_fact,CITY_DIM.City_ID==final_fact.City_ID)\\\n",
    "    .join(RESTAURANT_NAME_DIM,final_fact.Restaurant_ID==RESTAURANT_NAME_DIM.Restaurant_ID)\\\n",
    "        .join(RATING_DIM,'Rating_ID')\\\n",
    "            .sort(\"Rating_in_stars\",ascending=False)\\\n",
    "                .withColumn(\"rank\",f.row_number().over(my_fun3))\\\n",
    "                    .select(\"City_Name\",\"Restaurant_Name\",\"Rating_in_stars\")\\\n",
    "                        .filter(f.col(\"rank\")<=10)\n",
    "rating_df.show(40)"
   ]
  },
  {
   "cell_type": "markdown",
   "metadata": {
    "application/vnd.databricks.v1+cell": {
     "cellMetadata": {
      "byteLimit": 2048000,
      "rowLimit": 10000
     },
     "inputWidgets": {},
     "nuid": "7ee07081-90b7-4feb-9326-e8558f7ca58d",
     "showTitle": false,
     "tableResultSettingsMap": {},
     "title": ""
    }
   },
   "source": [
    "### \tRating based on delivery availability City wise"
   ]
  },
  {
   "cell_type": "code",
   "execution_count": 0,
   "metadata": {
    "application/vnd.databricks.v1+cell": {
     "cellMetadata": {
      "byteLimit": 2048000,
      "rowLimit": 10000
     },
     "inputWidgets": {},
     "nuid": "1736afd0-8039-4608-b02a-94dcc47fbcb5",
     "showTitle": false,
     "tableResultSettingsMap": {},
     "title": ""
    }
   },
   "outputs": [
    {
     "output_type": "stream",
     "name": "stdout",
     "output_type": "stream",
     "text": [
      "+----------+--------------+-------+\n| City_Name|Delivery_avail|Ratings|\n+----------+--------------+-------+\n| Bangalore|            No|    4.4|\n| Bangalore|           Yes|    4.4|\n|Chandigarh|            No|    4.1|\n|Chandigarh|           Yes|    4.0|\n|   Chennai|            No|    4.4|\n|   Chennai|           Yes|    4.3|\n|       Goa|            No|    4.2|\n|  Guwahati|            No|    4.2|\n| Hyderabad|            No|    4.4|\n| Hyderabad|           Yes|    4.3|\n|    Jaipur|            No|    4.0|\n|    Jaipur|           Yes|    4.3|\n|   Kolkata|            No|    4.3|\n|   Kolkata|           Yes|    4.2|\n|   Lucknow|            No|    4.2|\n|    Mumbai|            No|    4.0|\n|    Mumbai|           Yes|    4.2|\n|     Patna|            No|    3.5|\n|      Pune|            No|    4.2|\n|      Pune|           Yes|    4.2|\n+----------+--------------+-------+\nonly showing top 20 rows\n\n"
     ]
    }
   ],
   "source": [
    "avail_city_df=CITY_DIM.join(final_fact,CITY_DIM.City_ID==final_fact.City_ID)\\\n",
    "    .join(DELIVERY_DIM,'Delivery_ID')\\\n",
    "        .join(RATING_DIM,'Rating_ID')\\\n",
    "                .groupBy(\"Delivery_avail\",\"City_Name\").avg(\"Rating_in_stars\")\\\n",
    "                    .sort(\"City_Name\",\"Delivery_avail\")\\\n",
    "                        .select(\"City_Name\",\"Delivery_avail\",f.round(f.col(\"avg(Rating_in_stars)\"),1).alias(\"Ratings\"))\n",
    "avail_city_df.show()"
   ]
  },
  {
   "cell_type": "markdown",
   "metadata": {
    "application/vnd.databricks.v1+cell": {
     "cellMetadata": {
      "byteLimit": 2048000,
      "rowLimit": 10000
     },
     "inputWidgets": {},
     "nuid": "95f05b8b-a065-42d7-8a1e-0d7aeeaf66f5",
     "showTitle": false,
     "tableResultSettingsMap": {},
     "title": ""
    }
   },
   "source": [
    "### \tAvg cost for 2 based on cuisine city wise"
   ]
  },
  {
   "cell_type": "code",
   "execution_count": 0,
   "metadata": {
    "application/vnd.databricks.v1+cell": {
     "cellMetadata": {
      "byteLimit": 2048000,
      "rowLimit": 10000
     },
     "inputWidgets": {},
     "nuid": "47b2c466-934e-47d8-b39a-ae4722ef543e",
     "showTitle": false,
     "tableResultSettingsMap": {},
     "title": ""
    }
   },
   "outputs": [
    {
     "output_type": "stream",
     "name": "stdout",
     "output_type": "stream",
     "text": [
      "+----------+-------------+-------------------------+\n| City_Name| Cuisine_Name|max(Average_cost_for_two)|\n+----------+-------------+-------------------------+\n| Bangalore|     American|                      800|\n| Bangalore|        Asian|                     2400|\n| Bangalore|       Bakery|                      800|\n| Bangalore|  Continental|                     1500|\n| Bangalore|     European|                     1400|\n| Bangalore|    Fast Food|                     1800|\n| Bangalore|      Italian|                     2000|\n| Bangalore|Modern Indian|                     1500|\n| Bangalore| North Indian|                     1400|\n|Chandigarh|     American|                     1800|\n|Chandigarh|       Bakery|                      650|\n|Chandigarh|         Cafe|                      650|\n|Chandigarh|  Continental|                     1400|\n|Chandigarh|     Desserts|                      600|\n|Chandigarh|    Fast Food|                      500|\n|Chandigarh|      Italian|                     2200|\n|Chandigarh|     Japanese|                     1600|\n|Chandigarh|      Mexican|                     1400|\n|Chandigarh|      Mughlai|                      800|\n|Chandigarh| North Indian|                     1300|\n|   Chennai|      Biryani|                      900|\n|   Chennai|         Cafe|                     1100|\n|   Chennai|  Continental|                     1500|\n|   Chennai|     European|                     1200|\n|   Chennai|      Italian|                     1500|\n|   Chennai|      Mexican|                     1700|\n|   Chennai| North Indian|                     2000|\n|   Chennai| South Indian|                     1000|\n|       Goa|         Cafe|                      800|\n|       Goa|  Continental|                     1500|\n|       Goa|    Fast Food|                     2000|\n|       Goa|         Goan|                     1600|\n|       Goa|      Italian|                      800|\n|       Goa| North Indian|                     1400|\n|       Goa|      Seafood|                     2000|\n|  Guwahati|        Asian|                      500|\n|  Guwahati|         Cafe|                      850|\n|  Guwahati|      Chinese|                     1300|\n|  Guwahati|  Continental|                     1400|\n|  Guwahati| North Indian|                     1650|\n+----------+-------------+-------------------------+\nonly showing top 40 rows\n\n"
     ]
    }
   ],
   "source": [
    "avg_cost_df=CITY_DIM.join(final_fact,\"City_ID\")\\\n",
    "  .join(CUISINE_DIM,\"Cuisine_ID\")\\\n",
    "    .groupBy(\"City_Name\",\"Cuisine_Name\").max(\"Average_cost_for_two\")\\\n",
    "      .sort(\"City_Name\",\"Cuisine_Name\",f.col(\"max(Average_cost_for_two)\").alias(\"Average_cost_for_two\"))\n",
    "avg_cost_df.show(40)"
   ]
  }
 ],
 "metadata": {
  "application/vnd.databricks.v1+notebook": {
   "dashboards": [],
   "environmentMetadata": null,
   "language": "python",
   "notebookMetadata": {
    "pythonIndentUnit": 4
   },
   "notebookName": "swiggy project",
   "widgets": {}
  }
 },
 "nbformat": 4,
 "nbformat_minor": 0
}
